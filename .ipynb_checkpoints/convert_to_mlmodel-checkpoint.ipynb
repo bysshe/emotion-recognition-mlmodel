{
 "cells": [
  {
   "cell_type": "code",
   "execution_count": 1,
   "metadata": {
    "collapsed": true
   },
   "outputs": [],
   "source": [
    "import coremltools"
   ]
  },
  {
   "cell_type": "code",
   "execution_count": 2,
   "metadata": {
    "collapsed": true
   },
   "outputs": [],
   "source": [
    "caffe_model = ('EmotiW_VGG_S.caffemodel', 'deploy.prototxt')"
   ]
  },
  {
   "cell_type": "code",
   "execution_count": 3,
   "metadata": {
    "collapsed": true
   },
   "outputs": [],
   "source": [
    "labels = 'labels.txt'"
   ]
  },
  {
   "cell_type": "code",
   "execution_count": 4,
   "metadata": {},
   "outputs": [
    {
     "ename": "RuntimeError",
     "evalue": "Unable to open class label file provided in the path: labels.txt\n",
     "output_type": "error",
     "traceback": [
      "\u001b[0;31m---------------------------------------------------------------------------\u001b[0m",
      "\u001b[0;31mRuntimeError\u001b[0m                              Traceback (most recent call last)",
      "\u001b[0;32m<ipython-input-4-be6d72a0803b>\u001b[0m in \u001b[0;36m<module>\u001b[0;34m()\u001b[0m\n\u001b[1;32m      1\u001b[0m coreml_model = coremltools.converters.caffe.convert(caffe_model, \n\u001b[1;32m      2\u001b[0m                                                     \u001b[0mclass_labels\u001b[0m\u001b[0;34m=\u001b[0m\u001b[0mlabels\u001b[0m\u001b[0;34m,\u001b[0m\u001b[0;34m\u001b[0m\u001b[0m\n\u001b[0;32m----> 3\u001b[0;31m                                                     image_input_names='data')\n\u001b[0m",
      "\u001b[0;32m/Users/meghaphone/anaconda/lib/python2.7/site-packages/coremltools/converters/caffe/_caffe_converter.pyc\u001b[0m in \u001b[0;36mconvert\u001b[0;34m(model, image_input_names, is_bgr, red_bias, blue_bias, green_bias, gray_bias, image_scale, class_labels, predicted_feature_name)\u001b[0m\n\u001b[1;32m    169\u001b[0m     spec = _export(model_path, model, image_input_names, is_bgr, red_bias, blue_bias,\n\u001b[1;32m    170\u001b[0m             \u001b[0mgreen_bias\u001b[0m\u001b[0;34m,\u001b[0m \u001b[0mgray_bias\u001b[0m\u001b[0;34m,\u001b[0m \u001b[0mimage_scale\u001b[0m\u001b[0;34m,\u001b[0m \u001b[0mclass_labels\u001b[0m\u001b[0;34m,\u001b[0m\u001b[0;34m\u001b[0m\u001b[0m\n\u001b[0;32m--> 171\u001b[0;31m             predicted_feature_name)\n\u001b[0m\u001b[1;32m    172\u001b[0m     \u001b[0;32mreturn\u001b[0m \u001b[0mMLModel\u001b[0m\u001b[0;34m(\u001b[0m\u001b[0mmodel_path\u001b[0m\u001b[0;34m)\u001b[0m\u001b[0;34m\u001b[0m\u001b[0m\n\u001b[1;32m    173\u001b[0m \u001b[0;34m\u001b[0m\u001b[0m\n",
      "\u001b[0;32m/Users/meghaphone/anaconda/lib/python2.7/site-packages/coremltools/converters/caffe/_caffe_converter.pyc\u001b[0m in \u001b[0;36m_export\u001b[0;34m(filename, model, image_input_names, is_bgr, red_bias, blue_bias, green_bias, gray_bias, image_scale, class_labels, predicted_feature_name)\u001b[0m\n\u001b[1;32m    234\u001b[0m                                        \u001b[0mprototxt_path\u001b[0m\u001b[0;34m,\u001b[0m\u001b[0;34m\u001b[0m\u001b[0m\n\u001b[1;32m    235\u001b[0m                                        \u001b[0mclass_labels\u001b[0m\u001b[0;34m,\u001b[0m\u001b[0;34m\u001b[0m\u001b[0m\n\u001b[0;32m--> 236\u001b[0;31m                                        predicted_feature_name)\n\u001b[0m",
      "\u001b[0;31mRuntimeError\u001b[0m: Unable to open class label file provided in the path: labels.txt\n"
     ]
    }
   ],
   "source": [
    "coreml_model = coremltools.converters.caffe.convert(caffe_model, \n",
    "                                                    class_labels=labels, \n",
    "                                                    image_input_names='data')"
   ]
  },
  {
   "cell_type": "code",
   "execution_count": 8,
   "metadata": {
    "collapsed": true
   },
   "outputs": [],
   "source": [
    "coreml_model.author = 'Gil Levi and Tal Hassner'\n",
    "coreml_model.license = 'MIT'\n",
    "coreml_model.short_description = 'Predicts predominant facial expression emotion'\n",
    "coreml_model.input_description['data'] = 'Image to be classified'\n",
    "coreml_model.output_description['prob'] = 'Probability of each emotion from facial expression'\n",
    "coreml_model.output_description['classLabel'] = 'Emotion'\n",
    "coreml_model.save('EmotiClassifier.mlmodel')"
   ]
  },
  {
   "cell_type": "code",
   "execution_count": null,
   "metadata": {
    "collapsed": true
   },
   "outputs": [],
   "source": []
  }
 ],
 "metadata": {
  "kernelspec": {
   "display_name": "Python 2",
   "language": "python",
   "name": "python2"
  },
  "language_info": {
   "codemirror_mode": {
    "name": "ipython",
    "version": 2
   },
   "file_extension": ".py",
   "mimetype": "text/x-python",
   "name": "python",
   "nbconvert_exporter": "python",
   "pygments_lexer": "ipython2",
   "version": "2.7.13"
  }
 },
 "nbformat": 4,
 "nbformat_minor": 2
}
